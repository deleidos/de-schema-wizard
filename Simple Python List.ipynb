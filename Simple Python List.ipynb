{
 "cells": [
  {
   "cell_type": "code",
   "execution_count": 3,
   "metadata": {
    "collapsed": false,
    "deletable": true,
    "editable": true
   },
   "outputs": [
    {
     "name": "stdout",
     "output_type": "stream",
     "text": [
      "Bass\n",
      "Drums\n",
      "Guitar\n"
     ]
    }
   ],
   "source": [
    "# the character \"#\" indicates that the rest of the line is a comment\n",
    "# A list of musical instruments\n",
    "instruments = ['Bass', 'Drums', 'Guitar']\n",
    "\n",
    "# for each name in the list of instruments\n",
    "for instrument in instruments:\n",
    "    # show the name of the musical instrument\n",
    "    print (instrument)"
   ]
  }
 ],
 "metadata": {
  "kernelspec": {
   "display_name": "Python 3",
   "language": "python",
   "name": "python3"
  },
  "language_info": {
   "codemirror_mode": {
    "name": "ipython",
    "version": 3
   },
   "file_extension": ".py",
   "mimetype": "text/x-python",
   "name": "python",
   "nbconvert_exporter": "python",
   "pygments_lexer": "ipython3",
   "version": "3.5.1"
  }
 },
 "nbformat": 4,
 "nbformat_minor": 2
}
